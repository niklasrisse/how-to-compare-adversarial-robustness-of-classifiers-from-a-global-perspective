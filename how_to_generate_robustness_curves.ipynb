{
 "cells": [
  {
   "cell_type": "markdown",
   "metadata": {},
   "source": [
    "# How to generate robustness curves"
   ]
  },
  {
   "cell_type": "code",
   "execution_count": null,
   "metadata": {},
   "outputs": [],
   "source": [
    "from argparse import Namespace\n",
    "import numpy as np\n",
    "import tensorflow.compat.v1 as tf\n",
    "tf.disable_v2_behavior()\n",
    "import foolbox\n",
    "\n",
    "import provable_robustness_max_linear_regions.data as dt\n",
    "from provable_robustness_max_linear_regions import models\n",
    "from provable_robustness_max_linear_regions.models import load_model\n",
    "from robustness_curves import generate_curve_data"
   ]
  },
  {
   "cell_type": "markdown",
   "metadata": {},
   "source": [
    "## 1. Load and prepare your dataset\n",
    "The data needs to be a numpy array. In this case we use 10 datapoints from the CIFAR 10 test set. We also reshape the data to fit our model."
   ]
  },
  {
   "cell_type": "code",
   "execution_count": null,
   "metadata": {},
   "outputs": [],
   "source": [
    "n_points = 3\n",
    "\n",
    "_, x_test, _, y_test = dt.get_dataset(\"cifar10\")\n",
    "\n",
    "x_test = x_test[:n_points]\n",
    "y_test = y_test[:n_points]\n",
    "\n",
    "x_test = x_test.reshape(n_points, 1, 32, 32, 3)"
   ]
  },
  {
   "cell_type": "markdown",
   "metadata": {},
   "source": [
    "## 2. Train and prepare your model\n",
    "In this case we use a small pretrained convolutional neural network, that was trained with standard training on the CIFAR10 training set and implemented in TensorFlow 1. Most of the steps in this cell might look very different for you, depending on how you implemented your model. Your model does not need to be implemented in TensorFlow 1. Our module supports most of the popular machine learning frameworks, including TensorFlow 2, PyTorch or JAX."
   ]
  },
  {
   "cell_type": "code",
   "execution_count": null,
   "metadata": {},
   "outputs": [],
   "source": [
    "model_weight_path = \"provable_robustness_max_linear_regions/models/plain/2019-02-19 01_20_16 dataset=cifar10 nn_type=cnn_lenet_small p_norm=inf lmbd=0.0 gamma_rb=0.0 gamma_db=0.0 ae_frac=0.0 epoch=100.mat\"\n",
    "\n",
    "model_args = Namespace()\n",
    "n_test_ex, one, model_args.height, model_args.width, model_args.n_col = x_test.shape\n",
    "model_args.n_in, model_args.n_out = model_args.height * model_args.width * model_args.n_col, y_test.shape[1]\n",
    "model_args.n_hs = []\n",
    "model_args.seed = 1\n",
    "model_args.nn_type = \"cnn\"\n",
    "model_args.dataset = \"cifar10\"\n",
    "\n",
    "sess = tf.InteractiveSession()\n",
    "model, _input, _logits, _ = load_model(sess, model_args, model_weight_path)"
   ]
  },
  {
   "cell_type": "markdown",
   "metadata": {},
   "source": [
    "## 3. Wrap the model with a foolbox model wrapper\n",
    "Use the correct wrapper for the machine learning framework, in which you implemented your model. The list of possible model wrappers can be found in the documentation of foolbox 2.4 (https://foolbox.readthedocs.io/en/v2.4.0/modules/models.html)."
   ]
  },
  {
   "cell_type": "code",
   "execution_count": null,
   "metadata": {},
   "outputs": [],
   "source": [
    "f_model = foolbox.models.TensorFlowModel(_input, _logits, (0,1))      "
   ]
  },
  {
   "cell_type": "markdown",
   "metadata": {},
   "source": [
    "## 4. Define the arguments for the module\n",
    "The norms are the $\\ell_p$ norms for which to calculate the robustness curves. We support $\\ell_\\infty$, $\\ell_1$ and $\\ell_2$."
   ]
  },
  {
   "cell_type": "code",
   "execution_count": null,
   "metadata": {},
   "outputs": [],
   "source": [
    "args = Namespace()\n",
    "\n",
    "args.inputs = x_test\n",
    "args.labels = y_test\n",
    "args.f_model = f_model\n",
    "args.norms = [\"inf\", \"2\"]\n",
    "args.save = True\n",
    "args.plot = True"
   ]
  },
  {
   "cell_type": "markdown",
   "metadata": {},
   "source": [
    "## 5. Generate and plot the curves"
   ]
  },
  {
   "cell_type": "code",
   "execution_count": null,
   "metadata": {},
   "outputs": [],
   "source": [
    "robustness_curve_data = generate_curve_data(args)"
   ]
  },
  {
   "cell_type": "code",
   "execution_count": null,
   "metadata": {},
   "outputs": [],
   "source": [
    "tf.reset_default_graph()\n",
    "sess.close()"
   ]
  }
 ],
 "metadata": {
  "kernelspec": {
   "display_name": "Python 3",
   "language": "python",
   "name": "python3"
  },
  "language_info": {
   "codemirror_mode": {
    "name": "ipython",
    "version": 3
   },
   "file_extension": ".py",
   "mimetype": "text/x-python",
   "name": "python",
   "nbconvert_exporter": "python",
   "pygments_lexer": "ipython3",
   "version": "3.7.9"
  }
 },
 "nbformat": 4,
 "nbformat_minor": 4
}
