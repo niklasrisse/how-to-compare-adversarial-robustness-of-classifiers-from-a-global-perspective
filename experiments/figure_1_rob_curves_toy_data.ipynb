{
 "cells": [
  {
   "cell_type": "markdown",
   "metadata": {},
   "source": [
    "# Robustness curves for toy example"
   ]
  },
  {
   "cell_type": "code",
   "execution_count": null,
   "metadata": {},
   "outputs": [],
   "source": [
    "import os\n",
    "os.chdir(\"../\")\n",
    "import numpy as np\n",
    "import matplotlib\n",
    "import matplotlib.pyplot as plt\n",
    "import seaborn as sns\n",
    "sns.set(context='paper')"
   ]
  },
  {
   "cell_type": "markdown",
   "metadata": {},
   "source": [
    "## Plot settings:"
   ]
  },
  {
   "cell_type": "code",
   "execution_count": null,
   "metadata": {},
   "outputs": [],
   "source": [
    "SMALL_SIZE = 4.2\n",
    "MEDIUM_SIZE = 5.8\n",
    "BIGGER_SIZE = 6.0\n",
    "\n",
    "TEXT_WIDTH = 4.8041\n",
    "\n",
    "TICK_LABEL_TO_TICK_DISTANCE = -2  # the lower the closer\n",
    "\n",
    "LINE_WIDTH = 0.6\n",
    "\n",
    "\n",
    "def calc_fig_size(n_rows, n_cols, text_width=TEXT_WIDTH):\n",
    "    ax_width = text_width / 3\n",
    "    ax_height = text_width / 5\n",
    "    extra_height = text_width / 4 * 2 - text_width / 5 * 2\n",
    "\n",
    "    fig_width = n_cols * ax_width\n",
    "    fig_height = n_rows * ax_height\n",
    "\n",
    "    if fig_width > text_width:\n",
    "        factor = text_width / fig_width\n",
    "        fig_width *= factor\n",
    "        fig_height *= factor\n",
    "\n",
    "    fig_height += extra_height\n",
    "\n",
    "    return fig_width, fig_height\n",
    "\n",
    "\n",
    "def tex_rob(sub, sup, arg):\n",
    "    return 'R_{{{}}}^{{{}}}({{{}}})'.format(sub, sup, arg)\n",
    "\n",
    "\n",
    "X_EPS = r'perturbation size $\\varepsilon$'\n",
    "X_EPS_INF = r'$\\ell_\\infty$ perturbation size $\\varepsilon$'\n",
    "X_EPS_ONE = r'$\\ell_1$ perturbation size $\\varepsilon$'\n",
    "X_EPS_TWO = r'$\\ell_2$ perturbation size $\\varepsilon$'\n",
    "Y_ROB = '${}$'.format(tex_rob('', '', r'\\varepsilon'))\n",
    "Y_ROB_INF = '${}$'.format(tex_rob(r'\\|\\cdot\\|_\\infty', '', r'\\varepsilon'))\n",
    "Y_ROB_ONE = '${}$'.format(tex_rob(r'\\|\\cdot\\|_1', '', r'\\varepsilon'))\n",
    "Y_ROB_TWO = '${}$'.format(tex_rob(r'\\|\\cdot\\|_2', '', r'\\varepsilon'))\n",
    "\n",
    "# plt.rc('font',**{'family':'sans-serif','sans-serif':['Helvetica']})\n",
    "\n",
    "plt.rc('font', size=SMALL_SIZE)  # controls default text sizes\n",
    "plt.rc('axes', titlesize=MEDIUM_SIZE)  # fontsize of the axes title\n",
    "plt.rc('axes', labelsize=MEDIUM_SIZE)  # fontsize of the x and y labels\n",
    "plt.rc('xtick', labelsize=SMALL_SIZE)  # fontsize of the tick labels\n",
    "plt.rc('ytick', labelsize=SMALL_SIZE)  # fontsize of the tick labels\n",
    "plt.rc('legend', fontsize=SMALL_SIZE)  # legend fontsize\n",
    "plt.rc('figure', titlesize=BIGGER_SIZE)  # fontsize of the figure title\n",
    "plt.rc('text', usetex=True)\n",
    "\n",
    "colors = {\n",
    "    \"orange\": sns.xkcd_rgb[\"yellowish orange\"],\n",
    "    \"red\": sns.xkcd_rgb[\"pale red\"],\n",
    "    \"green\": sns.xkcd_rgb[\"medium green\"],\n",
    "    \"blue\": sns.xkcd_rgb[\"denim blue\"],\n",
    "    \"yellow\": sns.xkcd_rgb[\"amber\"],\n",
    "    \"purple\": sns.xkcd_rgb[\"dusty purple\"],\n",
    "    \"cyan\": sns.xkcd_rgb[\"cyan\"]\n",
    "}"
   ]
  },
  {
   "cell_type": "markdown",
   "metadata": {},
   "source": [
    "## Create toy data and plot robustness curves:"
   ]
  },
  {
   "cell_type": "code",
   "execution_count": null,
   "metadata": {},
   "outputs": [],
   "source": [
    "save_name = \"fig_toy_rc\"\n",
    "\n",
    "width, height = calc_fig_size(1, 2)\n",
    "figsize = width / 2, height\n",
    "\n",
    "epsilon = 1\n",
    "x = np.linspace(0, 3 * epsilon)\n",
    "y = np.piecewise(x, [x < 0, np.logical_and(x >= 0, x < epsilon), np.logical_and(x >= epsilon, x < 2 * epsilon)],\n",
    "                  [lambda x: 0, lambda x: np.sin(((x) / epsilon) * np.pi * 1 - np.pi / 2) * 0.25 + 0.25,\n",
    "                   lambda x: 0.5,\n",
    "                   lambda x: np.sin(((x - 2 * epsilon) / epsilon) * np.pi * 1 - np.pi / 2) * 0.25 + 0.75])\n",
    "z = np.piecewise(x, [x < epsilon, x >= 2 * epsilon], [lambda x: 0, lambda x: 1, lambda x: np.sin(\n",
    "    ((x - epsilon) / epsilon) * np.pi - np.pi / 2) * 0.5 + 0.5])\n",
    "fig, ax = plt.subplots(1, 1, figsize=figsize)\n",
    "ax.plot(x, y, label='smooth', linewidth=LINE_WIDTH)\n",
    "ax.plot(x, z, label='squiggly', linewidth=LINE_WIDTH)\n",
    "\n",
    "ax.set_xticks([0, epsilon, 2 * epsilon, 3 * epsilon])\n",
    "ax.set_xticklabels(['0', r'$\\varepsilon$', r'$2\\varepsilon$', r'$3\\varepsilon$'])\n",
    "\n",
    "\n",
    "ax.legend()\n",
    "\n",
    "ax.set_ylabel(Y_ROB_TWO)\n",
    "ax.set_xlabel(r'$\\ell_2$ perturbation size')\n",
    "\n",
    "ax.tick_params(axis='both',\n",
    "                  which='major',\n",
    "                  pad=TICK_LABEL_TO_TICK_DISTANCE)\n",
    "\n",
    "fig.tight_layout()\n",
    "\n",
    "fig.savefig('res/{}.pdf'.format(save_name))   "
   ]
  }
 ],
 "metadata": {
  "kernelspec": {
   "display_name": "Python 3",
   "language": "python",
   "name": "python3"
  },
  "language_info": {
   "codemirror_mode": {
    "name": "ipython",
    "version": 3
   },
   "file_extension": ".py",
   "mimetype": "text/x-python",
   "name": "python",
   "nbconvert_exporter": "python",
   "pygments_lexer": "ipython3",
   "version": "3.7.9"
  }
 },
 "nbformat": 4,
 "nbformat_minor": 4
}
